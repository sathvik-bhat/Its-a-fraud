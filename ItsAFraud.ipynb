{
  "cells": [
    {
      "cell_type": "code",
      "execution_count": 1,
      "metadata": {
        "id": "x2_F9ze5nT2R"
      },
      "outputs": [],
      "source": [
        "import matplotlib.pyplot as plt\n",
        "import numpy as np\n",
        "import pandas as pd"
      ]
    },
    {
      "cell_type": "markdown",
      "metadata": {
        "id": "QAbtb8aiUFfG"
      },
      "source": [
        "Loading the Dataset"
      ]
    },
    {
      "cell_type": "code",
      "execution_count": 2,
      "metadata": {
        "colab": {
          "base_uri": "https://localhost:8080/"
        },
        "id": "W4vjVlPEntuc",
        "outputId": "011b7f8e-ca74-46dd-fe34-7ee2bd5d1881"
      },
      "outputs": [
        {
          "data": {
            "text/plain": [
              "(442905, 434)"
            ]
          },
          "execution_count": 2,
          "metadata": {},
          "output_type": "execute_result"
        }
      ],
      "source": [
        "main_df = pd.read_csv(\"./train.csv\")\n",
        "main_df.head()\n",
        "main_df.shape"
      ]
    },
    {
      "cell_type": "code",
      "execution_count": 3,
      "metadata": {
        "colab": {
          "base_uri": "https://localhost:8080/",
          "height": 394
        },
        "id": "axxjd1pnoRDA",
        "outputId": "9c6cb32d-468f-4f57-f62f-602ef8ad1591"
      },
      "outputs": [
        {
          "data": {
            "text/html": [
              "<div>\n",
              "<style scoped>\n",
              "    .dataframe tbody tr th:only-of-type {\n",
              "        vertical-align: middle;\n",
              "    }\n",
              "\n",
              "    .dataframe tbody tr th {\n",
              "        vertical-align: top;\n",
              "    }\n",
              "\n",
              "    .dataframe thead th {\n",
              "        text-align: right;\n",
              "    }\n",
              "</style>\n",
              "<table border=\"1\" class=\"dataframe\">\n",
              "  <thead>\n",
              "    <tr style=\"text-align: right;\">\n",
              "      <th></th>\n",
              "      <th>TransactionID</th>\n",
              "      <th>isFraud</th>\n",
              "      <th>TransactionDT</th>\n",
              "      <th>TransactionAmt</th>\n",
              "      <th>card1</th>\n",
              "      <th>card2</th>\n",
              "      <th>card3</th>\n",
              "      <th>card5</th>\n",
              "      <th>addr1</th>\n",
              "      <th>addr2</th>\n",
              "      <th>...</th>\n",
              "      <th>id_17</th>\n",
              "      <th>id_18</th>\n",
              "      <th>id_19</th>\n",
              "      <th>id_20</th>\n",
              "      <th>id_21</th>\n",
              "      <th>id_22</th>\n",
              "      <th>id_24</th>\n",
              "      <th>id_25</th>\n",
              "      <th>id_26</th>\n",
              "      <th>id_32</th>\n",
              "    </tr>\n",
              "  </thead>\n",
              "  <tbody>\n",
              "    <tr>\n",
              "      <th>count</th>\n",
              "      <td>4.429050e+05</td>\n",
              "      <td>442905.000000</td>\n",
              "      <td>4.429050e+05</td>\n",
              "      <td>442905.000000</td>\n",
              "      <td>442905.000000</td>\n",
              "      <td>436201.000000</td>\n",
              "      <td>441724.000000</td>\n",
              "      <td>439730.000000</td>\n",
              "      <td>393811.000000</td>\n",
              "      <td>393811.000000</td>\n",
              "      <td>...</td>\n",
              "      <td>104324.000000</td>\n",
              "      <td>33788.000000</td>\n",
              "      <td>104289.000000</td>\n",
              "      <td>104244.000000</td>\n",
              "      <td>3865.000000</td>\n",
              "      <td>3870.000000</td>\n",
              "      <td>3552.000000</td>\n",
              "      <td>3842.000000</td>\n",
              "      <td>3865.000000</td>\n",
              "      <td>58109.000000</td>\n",
              "    </tr>\n",
              "    <tr>\n",
              "      <th>mean</th>\n",
              "      <td>3.282059e+06</td>\n",
              "      <td>0.034989</td>\n",
              "      <td>7.366857e+06</td>\n",
              "      <td>135.273690</td>\n",
              "      <td>9901.266082</td>\n",
              "      <td>362.542367</td>\n",
              "      <td>153.188550</td>\n",
              "      <td>199.276736</td>\n",
              "      <td>290.654596</td>\n",
              "      <td>86.799658</td>\n",
              "      <td>...</td>\n",
              "      <td>189.429604</td>\n",
              "      <td>14.233278</td>\n",
              "      <td>353.493475</td>\n",
              "      <td>403.862774</td>\n",
              "      <td>370.234670</td>\n",
              "      <td>16.025581</td>\n",
              "      <td>12.851351</td>\n",
              "      <td>328.556221</td>\n",
              "      <td>149.187581</td>\n",
              "      <td>26.498202</td>\n",
              "    </tr>\n",
              "    <tr>\n",
              "      <th>std</th>\n",
              "      <td>1.705119e+05</td>\n",
              "      <td>0.183753</td>\n",
              "      <td>4.617568e+06</td>\n",
              "      <td>232.955213</td>\n",
              "      <td>4901.960786</td>\n",
              "      <td>157.784513</td>\n",
              "      <td>11.314301</td>\n",
              "      <td>41.232396</td>\n",
              "      <td>101.745146</td>\n",
              "      <td>2.684822</td>\n",
              "      <td>...</td>\n",
              "      <td>30.360205</td>\n",
              "      <td>1.561150</td>\n",
              "      <td>141.183369</td>\n",
              "      <td>152.298443</td>\n",
              "      <td>198.839627</td>\n",
              "      <td>6.947584</td>\n",
              "      <td>2.417639</td>\n",
              "      <td>97.420034</td>\n",
              "      <td>32.180887</td>\n",
              "      <td>3.733750</td>\n",
              "    </tr>\n",
              "    <tr>\n",
              "      <th>min</th>\n",
              "      <td>2.987002e+06</td>\n",
              "      <td>0.000000</td>\n",
              "      <td>8.646900e+04</td>\n",
              "      <td>0.251000</td>\n",
              "      <td>1001.000000</td>\n",
              "      <td>100.000000</td>\n",
              "      <td>100.000000</td>\n",
              "      <td>100.000000</td>\n",
              "      <td>100.000000</td>\n",
              "      <td>10.000000</td>\n",
              "      <td>...</td>\n",
              "      <td>100.000000</td>\n",
              "      <td>10.000000</td>\n",
              "      <td>100.000000</td>\n",
              "      <td>100.000000</td>\n",
              "      <td>100.000000</td>\n",
              "      <td>10.000000</td>\n",
              "      <td>11.000000</td>\n",
              "      <td>100.000000</td>\n",
              "      <td>100.000000</td>\n",
              "      <td>0.000000</td>\n",
              "    </tr>\n",
              "    <tr>\n",
              "      <th>25%</th>\n",
              "      <td>3.134224e+06</td>\n",
              "      <td>0.000000</td>\n",
              "      <td>3.021834e+06</td>\n",
              "      <td>43.744000</td>\n",
              "      <td>6019.000000</td>\n",
              "      <td>214.000000</td>\n",
              "      <td>150.000000</td>\n",
              "      <td>166.000000</td>\n",
              "      <td>204.000000</td>\n",
              "      <td>87.000000</td>\n",
              "      <td>...</td>\n",
              "      <td>166.000000</td>\n",
              "      <td>13.000000</td>\n",
              "      <td>266.000000</td>\n",
              "      <td>256.000000</td>\n",
              "      <td>252.000000</td>\n",
              "      <td>14.000000</td>\n",
              "      <td>11.000000</td>\n",
              "      <td>321.000000</td>\n",
              "      <td>119.000000</td>\n",
              "      <td>24.000000</td>\n",
              "    </tr>\n",
              "    <tr>\n",
              "      <th>50%</th>\n",
              "      <td>3.282155e+06</td>\n",
              "      <td>0.000000</td>\n",
              "      <td>7.301614e+06</td>\n",
              "      <td>68.950000</td>\n",
              "      <td>9680.000000</td>\n",
              "      <td>361.000000</td>\n",
              "      <td>150.000000</td>\n",
              "      <td>226.000000</td>\n",
              "      <td>299.000000</td>\n",
              "      <td>87.000000</td>\n",
              "      <td>...</td>\n",
              "      <td>166.000000</td>\n",
              "      <td>15.000000</td>\n",
              "      <td>341.000000</td>\n",
              "      <td>472.000000</td>\n",
              "      <td>252.000000</td>\n",
              "      <td>14.000000</td>\n",
              "      <td>11.000000</td>\n",
              "      <td>321.000000</td>\n",
              "      <td>149.000000</td>\n",
              "      <td>24.000000</td>\n",
              "    </tr>\n",
              "    <tr>\n",
              "      <th>75%</th>\n",
              "      <td>3.429574e+06</td>\n",
              "      <td>0.000000</td>\n",
              "      <td>1.123641e+07</td>\n",
              "      <td>125.000000</td>\n",
              "      <td>14184.000000</td>\n",
              "      <td>512.000000</td>\n",
              "      <td>150.000000</td>\n",
              "      <td>226.000000</td>\n",
              "      <td>330.000000</td>\n",
              "      <td>87.000000</td>\n",
              "      <td>...</td>\n",
              "      <td>225.000000</td>\n",
              "      <td>15.000000</td>\n",
              "      <td>427.000000</td>\n",
              "      <td>533.000000</td>\n",
              "      <td>500.000000</td>\n",
              "      <td>14.000000</td>\n",
              "      <td>15.000000</td>\n",
              "      <td>367.750000</td>\n",
              "      <td>169.000000</td>\n",
              "      <td>32.000000</td>\n",
              "    </tr>\n",
              "    <tr>\n",
              "      <th>max</th>\n",
              "      <td>3.577539e+06</td>\n",
              "      <td>1.000000</td>\n",
              "      <td>1.581113e+07</td>\n",
              "      <td>6085.230000</td>\n",
              "      <td>18396.000000</td>\n",
              "      <td>600.000000</td>\n",
              "      <td>231.000000</td>\n",
              "      <td>237.000000</td>\n",
              "      <td>540.000000</td>\n",
              "      <td>102.000000</td>\n",
              "      <td>...</td>\n",
              "      <td>229.000000</td>\n",
              "      <td>29.000000</td>\n",
              "      <td>671.000000</td>\n",
              "      <td>660.000000</td>\n",
              "      <td>854.000000</td>\n",
              "      <td>44.000000</td>\n",
              "      <td>26.000000</td>\n",
              "      <td>548.000000</td>\n",
              "      <td>216.000000</td>\n",
              "      <td>32.000000</td>\n",
              "    </tr>\n",
              "  </tbody>\n",
              "</table>\n",
              "<p>8 rows × 403 columns</p>\n",
              "</div>"
            ],
            "text/plain": [
              "       TransactionID        isFraud  TransactionDT  TransactionAmt  \\\n",
              "count   4.429050e+05  442905.000000   4.429050e+05   442905.000000   \n",
              "mean    3.282059e+06       0.034989   7.366857e+06      135.273690   \n",
              "std     1.705119e+05       0.183753   4.617568e+06      232.955213   \n",
              "min     2.987002e+06       0.000000   8.646900e+04        0.251000   \n",
              "25%     3.134224e+06       0.000000   3.021834e+06       43.744000   \n",
              "50%     3.282155e+06       0.000000   7.301614e+06       68.950000   \n",
              "75%     3.429574e+06       0.000000   1.123641e+07      125.000000   \n",
              "max     3.577539e+06       1.000000   1.581113e+07     6085.230000   \n",
              "\n",
              "               card1          card2          card3          card5  \\\n",
              "count  442905.000000  436201.000000  441724.000000  439730.000000   \n",
              "mean     9901.266082     362.542367     153.188550     199.276736   \n",
              "std      4901.960786     157.784513      11.314301      41.232396   \n",
              "min      1001.000000     100.000000     100.000000     100.000000   \n",
              "25%      6019.000000     214.000000     150.000000     166.000000   \n",
              "50%      9680.000000     361.000000     150.000000     226.000000   \n",
              "75%     14184.000000     512.000000     150.000000     226.000000   \n",
              "max     18396.000000     600.000000     231.000000     237.000000   \n",
              "\n",
              "               addr1          addr2  ...          id_17         id_18  \\\n",
              "count  393811.000000  393811.000000  ...  104324.000000  33788.000000   \n",
              "mean      290.654596      86.799658  ...     189.429604     14.233278   \n",
              "std       101.745146       2.684822  ...      30.360205      1.561150   \n",
              "min       100.000000      10.000000  ...     100.000000     10.000000   \n",
              "25%       204.000000      87.000000  ...     166.000000     13.000000   \n",
              "50%       299.000000      87.000000  ...     166.000000     15.000000   \n",
              "75%       330.000000      87.000000  ...     225.000000     15.000000   \n",
              "max       540.000000     102.000000  ...     229.000000     29.000000   \n",
              "\n",
              "               id_19          id_20        id_21        id_22        id_24  \\\n",
              "count  104289.000000  104244.000000  3865.000000  3870.000000  3552.000000   \n",
              "mean      353.493475     403.862774   370.234670    16.025581    12.851351   \n",
              "std       141.183369     152.298443   198.839627     6.947584     2.417639   \n",
              "min       100.000000     100.000000   100.000000    10.000000    11.000000   \n",
              "25%       266.000000     256.000000   252.000000    14.000000    11.000000   \n",
              "50%       341.000000     472.000000   252.000000    14.000000    11.000000   \n",
              "75%       427.000000     533.000000   500.000000    14.000000    15.000000   \n",
              "max       671.000000     660.000000   854.000000    44.000000    26.000000   \n",
              "\n",
              "             id_25        id_26         id_32  \n",
              "count  3842.000000  3865.000000  58109.000000  \n",
              "mean    328.556221   149.187581     26.498202  \n",
              "std      97.420034    32.180887      3.733750  \n",
              "min     100.000000   100.000000      0.000000  \n",
              "25%     321.000000   119.000000     24.000000  \n",
              "50%     321.000000   149.000000     24.000000  \n",
              "75%     367.750000   169.000000     32.000000  \n",
              "max     548.000000   216.000000     32.000000  \n",
              "\n",
              "[8 rows x 403 columns]"
            ]
          },
          "execution_count": 3,
          "metadata": {},
          "output_type": "execute_result"
        }
      ],
      "source": [
        "main_df.describe()"
      ]
    },
    {
      "cell_type": "code",
      "execution_count": 4,
      "metadata": {
        "colab": {
          "base_uri": "https://localhost:8080/"
        },
        "id": "M4jGGqRjUFfJ",
        "outputId": "a6b525e8-a502-47b6-c480-a58f6836077d"
      },
      "outputs": [
        {
          "data": {
            "text/plain": [
              "(442905, 432)"
            ]
          },
          "execution_count": 4,
          "metadata": {},
          "output_type": "execute_result"
        }
      ],
      "source": [
        "useless = [\"TransactionID\", \"TransactionDT\"]\n",
        "main_df = main_df.drop(useless, axis = 1)\n",
        "main_df.shape"
      ]
    },
    {
      "cell_type": "markdown",
      "metadata": {
        "id": "rpjjRl7tUFfJ"
      },
      "source": [
        "Checking for Null values"
      ]
    },
    {
      "cell_type": "code",
      "execution_count": 5,
      "metadata": {
        "colab": {
          "base_uri": "https://localhost:8080/"
        },
        "id": "5Q7dOYd3o3_L",
        "outputId": "0bd29b23-6df3-45b0-f052-c230ef200e0d"
      },
      "outputs": [
        {
          "data": {
            "text/plain": [
              "isFraud                0\n",
              "TransactionAmt         0\n",
              "ProductCD              0\n",
              "card1                  0\n",
              "card2               6704\n",
              "                   ...  \n",
              "id_36             337369\n",
              "id_37             337369\n",
              "id_38             337369\n",
              "DeviceType        337504\n",
              "DeviceInfo        353982\n",
              "Length: 432, dtype: int64"
            ]
          },
          "execution_count": 5,
          "metadata": {},
          "output_type": "execute_result"
        }
      ],
      "source": [
        "main_df.isnull().sum()"
      ]
    },
    {
      "cell_type": "markdown",
      "metadata": {
        "id": "hIlawvWXUFfJ"
      },
      "source": [
        "We find that there are a lot of columns which have a high number of null values. So we are dropping the columns which have greater than 70% null values"
      ]
    },
    {
      "cell_type": "code",
      "execution_count": 6,
      "metadata": {
        "id": "S1cbbXO1-zUX"
      },
      "outputs": [],
      "source": [
        "l = []\n",
        "for col in main_df.columns:\n",
        "    if main_df[col].isnull().sum()*100/main_df.shape[0] > 70:\n",
        "        l.append(col)\n",
        "        # df = main_df.drop(col, axis = 1)\n"
      ]
    },
    {
      "cell_type": "code",
      "execution_count": 7,
      "metadata": {
        "colab": {
          "base_uri": "https://localhost:8080/"
        },
        "id": "cdbqOrayFnXs",
        "outputId": "aafde407-8ba4-407a-8a30-1cacdf7b1a37"
      },
      "outputs": [
        {
          "data": {
            "text/plain": [
              "(442905, 224)"
            ]
          },
          "execution_count": 7,
          "metadata": {},
          "output_type": "execute_result"
        }
      ],
      "source": [
        "new_df = main_df.drop(l, axis = 1)\n",
        "new_df.shape"
      ]
    },
    {
      "cell_type": "markdown",
      "metadata": {
        "id": "lpCWUmPG_wHw"
      },
      "source": [
        "Segregating the categorical and numerical columns"
      ]
    },
    {
      "cell_type": "code",
      "execution_count": 8,
      "metadata": {
        "id": "9RfLnNKVxZeg"
      },
      "outputs": [],
      "source": [
        "numerics = ['int16', 'int32', 'int64', 'float16', 'float32', 'float64']\n",
        "\n",
        "categorical = new_df.select_dtypes(include = 'object').columns\n",
        "numerical = new_df.select_dtypes(include = numerics).columns"
      ]
    },
    {
      "cell_type": "markdown",
      "metadata": {
        "id": "EDZ22jE5UFfL"
      },
      "source": [
        "Filling the missing values in numerical columns by their mean and categorical columns with their mode"
      ]
    },
    {
      "cell_type": "code",
      "execution_count": 9,
      "metadata": {
        "id": "uBVohc_JA0AM"
      },
      "outputs": [],
      "source": [
        "new_df[categorical] = new_df[categorical].fillna(new_df[categorical].mode().iloc[0]) #Filling categorical with most occuring value\n",
        "new_df[numerical] = new_df[numerical].fillna(new_df[numerical].mean())"
      ]
    },
    {
      "cell_type": "markdown",
      "metadata": {
        "id": "iSzKBhLeUFfL"
      },
      "source": [
        "Checking if null values still exist"
      ]
    },
    {
      "cell_type": "code",
      "execution_count": 10,
      "metadata": {
        "id": "9hedDsaL7-KU"
      },
      "outputs": [],
      "source": [
        "for i in new_df.columns:\n",
        "  if new_df[i].isnull().sum()>0:\n",
        "    print(i)"
      ]
    },
    {
      "cell_type": "markdown",
      "metadata": {
        "id": "w6cY6q-X_q9K"
      },
      "source": [
        "One hot encoding the categorical data"
      ]
    },
    {
      "cell_type": "code",
      "execution_count": 11,
      "metadata": {
        "colab": {
          "base_uri": "https://localhost:8080/"
        },
        "id": "vguOBlp7A5IT",
        "outputId": "4920c444-a049-465c-e68f-b0eaf3b8b2f8"
      },
      "outputs": [
        {
          "data": {
            "text/plain": [
              "(442905, 302)"
            ]
          },
          "execution_count": 11,
          "metadata": {},
          "output_type": "execute_result"
        }
      ],
      "source": [
        "df = pd.get_dummies(new_df, columns = categorical)\n",
        "df.shape"
      ]
    },
    {
      "cell_type": "markdown",
      "metadata": {
        "id": "EyowmNkbUFfM"
      },
      "source": [
        "Segregating the data into features and labels"
      ]
    },
    {
      "cell_type": "code",
      "execution_count": 12,
      "metadata": {
        "id": "KmcpelL58vAR"
      },
      "outputs": [],
      "source": [
        "X=df.drop(\"isFraud\", axis = 1)\n",
        "Y=df[\"isFraud\"]"
      ]
    },
    {
      "cell_type": "markdown",
      "metadata": {
        "id": "upgbbjVeUFfM"
      },
      "source": [
        "Standardisation of data"
      ]
    },
    {
      "cell_type": "code",
      "execution_count": 13,
      "metadata": {
        "colab": {
          "base_uri": "https://localhost:8080/",
          "height": 480
        },
        "id": "CpzdsUCN9BuO",
        "outputId": "1fb2ef02-f242-4a4c-e1f4-6e24545dd183"
      },
      "outputs": [
        {
          "data": {
            "text/html": [
              "<div>\n",
              "<style scoped>\n",
              "    .dataframe tbody tr th:only-of-type {\n",
              "        vertical-align: middle;\n",
              "    }\n",
              "\n",
              "    .dataframe tbody tr th {\n",
              "        vertical-align: top;\n",
              "    }\n",
              "\n",
              "    .dataframe thead th {\n",
              "        text-align: right;\n",
              "    }\n",
              "</style>\n",
              "<table border=\"1\" class=\"dataframe\">\n",
              "  <thead>\n",
              "    <tr style=\"text-align: right;\">\n",
              "      <th></th>\n",
              "      <th>TransactionAmt</th>\n",
              "      <th>card1</th>\n",
              "      <th>card2</th>\n",
              "      <th>card3</th>\n",
              "      <th>card5</th>\n",
              "      <th>addr1</th>\n",
              "      <th>addr2</th>\n",
              "      <th>dist1</th>\n",
              "      <th>C1</th>\n",
              "      <th>C2</th>\n",
              "      <th>...</th>\n",
              "      <th>M5_F</th>\n",
              "      <th>M5_T</th>\n",
              "      <th>M6_F</th>\n",
              "      <th>M6_T</th>\n",
              "      <th>M7_F</th>\n",
              "      <th>M7_T</th>\n",
              "      <th>M8_F</th>\n",
              "      <th>M8_T</th>\n",
              "      <th>M9_F</th>\n",
              "      <th>M9_T</th>\n",
              "    </tr>\n",
              "  </thead>\n",
              "  <tbody>\n",
              "    <tr>\n",
              "      <th>count</th>\n",
              "      <td>4.429050e+05</td>\n",
              "      <td>4.429050e+05</td>\n",
              "      <td>4.429050e+05</td>\n",
              "      <td>4.429050e+05</td>\n",
              "      <td>4.429050e+05</td>\n",
              "      <td>4.429050e+05</td>\n",
              "      <td>4.429050e+05</td>\n",
              "      <td>4.429050e+05</td>\n",
              "      <td>4.429050e+05</td>\n",
              "      <td>4.429050e+05</td>\n",
              "      <td>...</td>\n",
              "      <td>4.429050e+05</td>\n",
              "      <td>4.429050e+05</td>\n",
              "      <td>4.429050e+05</td>\n",
              "      <td>4.429050e+05</td>\n",
              "      <td>4.429050e+05</td>\n",
              "      <td>4.429050e+05</td>\n",
              "      <td>4.429050e+05</td>\n",
              "      <td>4.429050e+05</td>\n",
              "      <td>4.429050e+05</td>\n",
              "      <td>4.429050e+05</td>\n",
              "    </tr>\n",
              "    <tr>\n",
              "      <th>mean</th>\n",
              "      <td>-6.577540e-18</td>\n",
              "      <td>1.055936e-16</td>\n",
              "      <td>3.311390e-16</td>\n",
              "      <td>1.076679e-15</td>\n",
              "      <td>-9.105481e-17</td>\n",
              "      <td>8.578355e-16</td>\n",
              "      <td>1.737010e-14</td>\n",
              "      <td>-4.618716e-17</td>\n",
              "      <td>1.197594e-17</td>\n",
              "      <td>1.820855e-18</td>\n",
              "      <td>...</td>\n",
              "      <td>1.885027e-17</td>\n",
              "      <td>2.005347e-18</td>\n",
              "      <td>8.398395e-18</td>\n",
              "      <td>-8.398395e-18</td>\n",
              "      <td>6.001604e-17</td>\n",
              "      <td>-4.716577e-17</td>\n",
              "      <td>-6.742780e-17</td>\n",
              "      <td>6.742780e-17</td>\n",
              "      <td>4.503208e-17</td>\n",
              "      <td>-1.497914e-16</td>\n",
              "    </tr>\n",
              "    <tr>\n",
              "      <th>std</th>\n",
              "      <td>1.000000e+00</td>\n",
              "      <td>1.000000e+00</td>\n",
              "      <td>1.000000e+00</td>\n",
              "      <td>1.000000e+00</td>\n",
              "      <td>1.000000e+00</td>\n",
              "      <td>1.000000e+00</td>\n",
              "      <td>1.000000e+00</td>\n",
              "      <td>1.000000e+00</td>\n",
              "      <td>1.000000e+00</td>\n",
              "      <td>1.000000e+00</td>\n",
              "      <td>...</td>\n",
              "      <td>1.000000e+00</td>\n",
              "      <td>1.000000e+00</td>\n",
              "      <td>1.000000e+00</td>\n",
              "      <td>1.000000e+00</td>\n",
              "      <td>1.000000e+00</td>\n",
              "      <td>1.000000e+00</td>\n",
              "      <td>1.000000e+00</td>\n",
              "      <td>1.000000e+00</td>\n",
              "      <td>1.000000e+00</td>\n",
              "      <td>1.000000e+00</td>\n",
              "    </tr>\n",
              "    <tr>\n",
              "      <th>min</th>\n",
              "      <td>-5.796079e-01</td>\n",
              "      <td>-1.815654e+00</td>\n",
              "      <td>-1.676668e+00</td>\n",
              "      <td>-4.707282e+00</td>\n",
              "      <td>-2.416413e+00</td>\n",
              "      <td>-1.987216e+00</td>\n",
              "      <td>-3.033578e+01</td>\n",
              "      <td>-5.020062e-01</td>\n",
              "      <td>-1.048441e-01</td>\n",
              "      <td>-9.819295e-02</td>\n",
              "      <td>...</td>\n",
              "      <td>-2.120484e+00</td>\n",
              "      <td>-4.715894e-01</td>\n",
              "      <td>-1.433240e+00</td>\n",
              "      <td>-6.977185e-01</td>\n",
              "      <td>-4.121756e+00</td>\n",
              "      <td>-2.426145e-01</td>\n",
              "      <td>-2.375548e+00</td>\n",
              "      <td>-4.209545e-01</td>\n",
              "      <td>-2.643838e-01</td>\n",
              "      <td>-3.782371e+00</td>\n",
              "    </tr>\n",
              "    <tr>\n",
              "      <th>25%</th>\n",
              "      <td>-3.929068e-01</td>\n",
              "      <td>-7.919823e-01</td>\n",
              "      <td>-9.422461e-01</td>\n",
              "      <td>-2.821924e-01</td>\n",
              "      <td>-8.099615e-01</td>\n",
              "      <td>-8.927881e-01</td>\n",
              "      <td>7.913499e-02</td>\n",
              "      <td>-4.469940e-01</td>\n",
              "      <td>-9.748876e-02</td>\n",
              "      <td>-9.183342e-02</td>\n",
              "      <td>...</td>\n",
              "      <td>4.715894e-01</td>\n",
              "      <td>-4.715894e-01</td>\n",
              "      <td>-1.433240e+00</td>\n",
              "      <td>-6.977185e-01</td>\n",
              "      <td>2.426145e-01</td>\n",
              "      <td>-2.426145e-01</td>\n",
              "      <td>4.209545e-01</td>\n",
              "      <td>-4.209545e-01</td>\n",
              "      <td>-2.643838e-01</td>\n",
              "      <td>2.643838e-01</td>\n",
              "    </tr>\n",
              "    <tr>\n",
              "      <th>50%</th>\n",
              "      <td>-2.847058e-01</td>\n",
              "      <td>-4.513828e-02</td>\n",
              "      <td>-9.849979e-03</td>\n",
              "      <td>-2.821924e-01</td>\n",
              "      <td>6.504489e-01</td>\n",
              "      <td>5.924858e-16</td>\n",
              "      <td>7.913499e-02</td>\n",
              "      <td>-6.013625e-17</td>\n",
              "      <td>-9.748876e-02</td>\n",
              "      <td>-9.183342e-02</td>\n",
              "      <td>...</td>\n",
              "      <td>4.715894e-01</td>\n",
              "      <td>-4.715894e-01</td>\n",
              "      <td>6.977185e-01</td>\n",
              "      <td>-6.977185e-01</td>\n",
              "      <td>2.426145e-01</td>\n",
              "      <td>-2.426145e-01</td>\n",
              "      <td>4.209545e-01</td>\n",
              "      <td>-4.209545e-01</td>\n",
              "      <td>-2.643838e-01</td>\n",
              "      <td>2.643838e-01</td>\n",
              "    </tr>\n",
              "    <tr>\n",
              "      <th>75%</th>\n",
              "      <td>-4.410157e-02</td>\n",
              "      <td>8.736777e-01</td>\n",
              "      <td>9.544775e-01</td>\n",
              "      <td>-2.821924e-01</td>\n",
              "      <td>6.504489e-01</td>\n",
              "      <td>3.788325e-01</td>\n",
              "      <td>7.913499e-02</td>\n",
              "      <td>-6.013625e-17</td>\n",
              "      <td>-8.277810e-02</td>\n",
              "      <td>-7.911436e-02</td>\n",
              "      <td>...</td>\n",
              "      <td>4.715894e-01</td>\n",
              "      <td>-4.715894e-01</td>\n",
              "      <td>6.977185e-01</td>\n",
              "      <td>1.433240e+00</td>\n",
              "      <td>2.426145e-01</td>\n",
              "      <td>-2.426145e-01</td>\n",
              "      <td>4.209545e-01</td>\n",
              "      <td>-4.209545e-01</td>\n",
              "      <td>-2.643838e-01</td>\n",
              "      <td>2.643838e-01</td>\n",
              "    </tr>\n",
              "    <tr>\n",
              "      <th>max</th>\n",
              "      <td>2.554120e+01</td>\n",
              "      <td>1.732926e+00</td>\n",
              "      <td>1.516470e+00</td>\n",
              "      <td>6.886453e+00</td>\n",
              "      <td>9.181908e-01</td>\n",
              "      <td>2.598957e+00</td>\n",
              "      <td>6.004119e+00</td>\n",
              "      <td>4.302539e+01</td>\n",
              "      <td>3.435488e+01</td>\n",
              "      <td>3.609390e+01</td>\n",
              "      <td>...</td>\n",
              "      <td>4.715894e-01</td>\n",
              "      <td>2.120484e+00</td>\n",
              "      <td>6.977185e-01</td>\n",
              "      <td>1.433240e+00</td>\n",
              "      <td>2.426145e-01</td>\n",
              "      <td>4.121756e+00</td>\n",
              "      <td>4.209545e-01</td>\n",
              "      <td>2.375548e+00</td>\n",
              "      <td>3.782371e+00</td>\n",
              "      <td>2.643838e-01</td>\n",
              "    </tr>\n",
              "  </tbody>\n",
              "</table>\n",
              "<p>8 rows × 301 columns</p>\n",
              "</div>"
            ],
            "text/plain": [
              "       TransactionAmt         card1         card2         card3         card5  \\\n",
              "count    4.429050e+05  4.429050e+05  4.429050e+05  4.429050e+05  4.429050e+05   \n",
              "mean    -6.577540e-18  1.055936e-16  3.311390e-16  1.076679e-15 -9.105481e-17   \n",
              "std      1.000000e+00  1.000000e+00  1.000000e+00  1.000000e+00  1.000000e+00   \n",
              "min     -5.796079e-01 -1.815654e+00 -1.676668e+00 -4.707282e+00 -2.416413e+00   \n",
              "25%     -3.929068e-01 -7.919823e-01 -9.422461e-01 -2.821924e-01 -8.099615e-01   \n",
              "50%     -2.847058e-01 -4.513828e-02 -9.849979e-03 -2.821924e-01  6.504489e-01   \n",
              "75%     -4.410157e-02  8.736777e-01  9.544775e-01 -2.821924e-01  6.504489e-01   \n",
              "max      2.554120e+01  1.732926e+00  1.516470e+00  6.886453e+00  9.181908e-01   \n",
              "\n",
              "              addr1         addr2         dist1            C1            C2  \\\n",
              "count  4.429050e+05  4.429050e+05  4.429050e+05  4.429050e+05  4.429050e+05   \n",
              "mean   8.578355e-16  1.737010e-14 -4.618716e-17  1.197594e-17  1.820855e-18   \n",
              "std    1.000000e+00  1.000000e+00  1.000000e+00  1.000000e+00  1.000000e+00   \n",
              "min   -1.987216e+00 -3.033578e+01 -5.020062e-01 -1.048441e-01 -9.819295e-02   \n",
              "25%   -8.927881e-01  7.913499e-02 -4.469940e-01 -9.748876e-02 -9.183342e-02   \n",
              "50%    5.924858e-16  7.913499e-02 -6.013625e-17 -9.748876e-02 -9.183342e-02   \n",
              "75%    3.788325e-01  7.913499e-02 -6.013625e-17 -8.277810e-02 -7.911436e-02   \n",
              "max    2.598957e+00  6.004119e+00  4.302539e+01  3.435488e+01  3.609390e+01   \n",
              "\n",
              "       ...          M5_F          M5_T          M6_F          M6_T  \\\n",
              "count  ...  4.429050e+05  4.429050e+05  4.429050e+05  4.429050e+05   \n",
              "mean   ...  1.885027e-17  2.005347e-18  8.398395e-18 -8.398395e-18   \n",
              "std    ...  1.000000e+00  1.000000e+00  1.000000e+00  1.000000e+00   \n",
              "min    ... -2.120484e+00 -4.715894e-01 -1.433240e+00 -6.977185e-01   \n",
              "25%    ...  4.715894e-01 -4.715894e-01 -1.433240e+00 -6.977185e-01   \n",
              "50%    ...  4.715894e-01 -4.715894e-01  6.977185e-01 -6.977185e-01   \n",
              "75%    ...  4.715894e-01 -4.715894e-01  6.977185e-01  1.433240e+00   \n",
              "max    ...  4.715894e-01  2.120484e+00  6.977185e-01  1.433240e+00   \n",
              "\n",
              "               M7_F          M7_T          M8_F          M8_T          M9_F  \\\n",
              "count  4.429050e+05  4.429050e+05  4.429050e+05  4.429050e+05  4.429050e+05   \n",
              "mean   6.001604e-17 -4.716577e-17 -6.742780e-17  6.742780e-17  4.503208e-17   \n",
              "std    1.000000e+00  1.000000e+00  1.000000e+00  1.000000e+00  1.000000e+00   \n",
              "min   -4.121756e+00 -2.426145e-01 -2.375548e+00 -4.209545e-01 -2.643838e-01   \n",
              "25%    2.426145e-01 -2.426145e-01  4.209545e-01 -4.209545e-01 -2.643838e-01   \n",
              "50%    2.426145e-01 -2.426145e-01  4.209545e-01 -4.209545e-01 -2.643838e-01   \n",
              "75%    2.426145e-01 -2.426145e-01  4.209545e-01 -4.209545e-01 -2.643838e-01   \n",
              "max    2.426145e-01  4.121756e+00  4.209545e-01  2.375548e+00  3.782371e+00   \n",
              "\n",
              "               M9_T  \n",
              "count  4.429050e+05  \n",
              "mean  -1.497914e-16  \n",
              "std    1.000000e+00  \n",
              "min   -3.782371e+00  \n",
              "25%    2.643838e-01  \n",
              "50%    2.643838e-01  \n",
              "75%    2.643838e-01  \n",
              "max    2.643838e-01  \n",
              "\n",
              "[8 rows x 301 columns]"
            ]
          },
          "execution_count": 13,
          "metadata": {},
          "output_type": "execute_result"
        }
      ],
      "source": [
        "cols = X.select_dtypes(include=np.number).columns  \n",
        "for i in cols:\n",
        "    X[i] = (X[i] - X[i].mean())/X[i].std()\n",
        "X.describe()"
      ]
    },
    {
      "cell_type": "markdown",
      "metadata": {
        "id": "XMqjmUI1UFfN"
      },
      "source": [
        "Checking for skew"
      ]
    },
    {
      "cell_type": "code",
      "execution_count": 14,
      "metadata": {
        "colab": {
          "base_uri": "https://localhost:8080/",
          "height": 265
        },
        "id": "M-qhhs9yUFfN",
        "outputId": "67c86c18-2cb9-4547-d509-a317b6df0ef8"
      },
      "outputs": [
        {
          "data": {
            "image/png": "[encoded data removed]",
            "text/plain": [
              "<Figure size 432x288 with 1 Axes>"
            ]
          },
          "metadata": {
            "needs_background": "light"
          },
          "output_type": "display_data"
        }
      ],
      "source": [
        "_, counts = np.unique(Y, return_counts=True)\n",
        "plt.bar([0,1], counts)\n",
        "plt.xticks([0,1])\n",
        "plt.show()"
      ]
    },
    {
      "cell_type": "markdown",
      "metadata": {
        "id": "arv-mDtGUFfN"
      },
      "source": [
        "We notice that there is a very huge bias. Applied sampling to get rid of this"
      ]
    },
    {
      "cell_type": "code",
      "execution_count": 15,
      "metadata": {
        "id": "ssdqBS7ZUFfN"
      },
      "outputs": [],
      "source": [
        "from imblearn import over_sampling, under_sampling\n",
        "from imblearn.pipeline import Pipeline\n",
        "\n",
        "oversampling = over_sampling.RandomOverSampler(sampling_strategy = 0.1)\n",
        "undersampling = under_sampling.RandomUnderSampler(sampling_strategy = 0.5)\n",
        "steps = [('o',oversampling), ('u',undersampling)]\n",
        "pipeline = Pipeline(steps=steps)\n",
        "X_train, Y_train = pipeline.fit_resample(X, Y.ravel())"
      ]
    },
    {
      "cell_type": "code",
      "execution_count": 16,
      "metadata": {
        "colab": {
          "base_uri": "https://localhost:8080/",
          "height": 265
        },
        "id": "QofMHNs0UFfN",
        "outputId": "4529aa59-9da7-4204-ae79-ea64a1ec6002"
      },
      "outputs": [
        {
          "data": {
            "image/png": "[encoded data removed]",
            "text/plain": [
              "<Figure size 432x288 with 1 Axes>"
            ]
          },
          "metadata": {
            "needs_background": "light"
          },
          "output_type": "display_data"
        }
      ],
      "source": [
        "_, counts = np.unique(Y_train, return_counts=True)\n",
        "plt.bar([0,1], counts)\n",
        "plt.xticks([0,1])\n",
        "plt.show()"
      ]
    },
    {
      "cell_type": "markdown",
      "metadata": {
        "id": "LwcGS3t8UFfO"
      },
      "source": [
        "### Feature Selection"
      ]
    },
    {
      "cell_type": "markdown",
      "metadata": {
        "id": "1lfjEQdxUFfO"
      },
      "source": [
        "Building the correlation matrix to check for highly correlated features"
      ]
    },
    {
      "cell_type": "code",
      "execution_count": 17,
      "metadata": {
        "id": "_LkH0sfLUFfO"
      },
      "outputs": [],
      "source": [
        "def correlation(dataset, threshold):\n",
        "    col_corr = set()  # Set of all the names of correlated columns\n",
        "    corr_matrix = dataset.corr()\n",
        "    for i in range(len(corr_matrix.columns)):\n",
        "        for j in range(i):\n",
        "            if abs(corr_matrix.iloc[i, j]) > threshold: # we are interested in absolute coeff value\n",
        "                colname = corr_matrix.columns[i]  # getting the name of column\n",
        "                col_corr.add(colname)\n",
        "    return col_corr"
      ]
    },
    {
      "cell_type": "code",
      "execution_count": 18,
      "metadata": {
        "colab": {
          "base_uri": "https://localhost:8080/"
        },
        "id": "d61LpokPUFfP",
        "outputId": "90823cda-da0e-44ce-8651-ecc962e43b76"
      },
      "outputs": [
        {
          "data": {
            "text/plain": [
              "137"
            ]
          },
          "execution_count": 18,
          "metadata": {},
          "output_type": "execute_result"
        }
      ],
      "source": [
        "corr_features = correlation(X_train, 0.8)\n",
        "len(set(corr_features))"
      ]
    },
    {
      "cell_type": "markdown",
      "metadata": {
        "id": "gpKqY4DEUFfP"
      },
      "source": [
        "We are removing the 132 columns which have a correlation of greater than 80% with the other columns"
      ]
    },
    {
      "cell_type": "code",
      "execution_count": 19,
      "metadata": {
        "colab": {
          "base_uri": "https://localhost:8080/"
        },
        "id": "9lhKw1ncUFfP",
        "outputId": "ee039f6b-2ac4-4afe-b814-e165aedad878"
      },
      "outputs": [
        {
          "data": {
            "text/plain": [
              "(128220, 164)"
            ]
          },
          "execution_count": 19,
          "metadata": {},
          "output_type": "execute_result"
        }
      ],
      "source": [
        "X_train = X_train.drop(corr_features,axis=1)\n",
        "X_train.shape"
      ]
    },
    {
      "cell_type": "markdown",
      "metadata": {
        "id": "ydWitgJOUFfN"
      },
      "source": [
        "Outlier Detection and removal"
      ]
    },
    {
      "cell_type": "code",
      "execution_count": 20,
      "metadata": {
        "id": "Oy0z441JPKXO"
      },
      "outputs": [],
      "source": [
        "new_df = X_train\n",
        "new_df[\"isFraud\"] = Y_train"
      ]
    },
    {
      "cell_type": "code",
      "execution_count": 21,
      "metadata": {
        "colab": {
          "base_uri": "https://localhost:8080/",
          "height": 426
        },
        "id": "HHniCbQuUFfO",
        "outputId": "7ff1766a-4263-4ac2-e3b2-bf79325fbcd1"
      },
      "outputs": [
        {
          "data": {
            "image/png": "[encoded data removed]",
            "text/plain": [
              "<Figure size 1152x360 with 2 Axes>"
            ]
          },
          "metadata": {
            "needs_background": "light"
          },
          "output_type": "display_data"
        }
      ],
      "source": [
        "import seaborn as sns\n",
        "plt.figure(figsize=(16,5))\n",
        "plt.subplot(1,2,1)\n",
        "sns.distplot(new_df['TransactionAmt'])\n",
        "plt.subplot(1,2,2)\n",
        "sns.boxplot(df['TransactionAmt'])\n",
        "plt.show()"
      ]
    },
    {
      "cell_type": "code",
      "execution_count": 22,
      "metadata": {
        "colab": {
          "base_uri": "https://localhost:8080/"
        },
        "id": "aZWUXzxtUFfO",
        "outputId": "9b5118fa-28b5-4985-f11b-eaf45741a666"
      },
      "outputs": [
        {
          "name": "stdout",
          "output_type": "stream",
          "text": [
            "(128220, 165)\n",
            "(125624, 165)\n"
          ]
        }
      ],
      "source": [
        "print(new_df.shape)\n",
        "data = new_df['TransactionAmt']\n",
        "mean = data.mean()\n",
        "std = data.std()\n",
        "z_score_outlier = [i for i in data if (i-mean)/std > 3]\n",
        "new_df = new_df[(new_df['TransactionAmt'] - mean)/std <=3]\n",
        "# print((z_score_outlier))\n",
        "print(new_df.shape)"
      ]
    },
    {
      "cell_type": "code",
      "execution_count": 26,
      "metadata": {
        "id": "rlF6UNe-XIzz"
      },
      "outputs": [],
      "source": [
        "new_df.to_parquet(\"./preprocessed_df.parquet\")"
      ]
    },
    {
      "cell_type": "markdown",
      "metadata": {
        "id": "TEswSCR2UFfP"
      },
      "source": [
        "Performing the same calculations on the test data"
      ]
    },
    {
      "cell_type": "code",
      "execution_count": 27,
      "metadata": {
        "id": "8OuwNMb9UFfP"
      },
      "outputs": [
        {
          "data": {
            "text/html": [
              "<div>\n",
              "<style scoped>\n",
              "    .dataframe tbody tr th:only-of-type {\n",
              "        vertical-align: middle;\n",
              "    }\n",
              "\n",
              "    .dataframe tbody tr th {\n",
              "        vertical-align: top;\n",
              "    }\n",
              "\n",
              "    .dataframe thead th {\n",
              "        text-align: right;\n",
              "    }\n",
              "</style>\n",
              "<table border=\"1\" class=\"dataframe\">\n",
              "  <thead>\n",
              "    <tr style=\"text-align: right;\">\n",
              "      <th></th>\n",
              "      <th>TransactionID</th>\n",
              "      <th>TransactionDT</th>\n",
              "      <th>TransactionAmt</th>\n",
              "      <th>card1</th>\n",
              "      <th>card2</th>\n",
              "      <th>card3</th>\n",
              "      <th>card5</th>\n",
              "      <th>addr1</th>\n",
              "      <th>addr2</th>\n",
              "      <th>dist1</th>\n",
              "      <th>...</th>\n",
              "      <th>M1_F</th>\n",
              "      <th>M2_F</th>\n",
              "      <th>M3_F</th>\n",
              "      <th>M4_M0</th>\n",
              "      <th>M4_M1</th>\n",
              "      <th>M5_F</th>\n",
              "      <th>M6_F</th>\n",
              "      <th>M7_F</th>\n",
              "      <th>M8_F</th>\n",
              "      <th>M9_F</th>\n",
              "    </tr>\n",
              "  </thead>\n",
              "  <tbody>\n",
              "    <tr>\n",
              "      <th>0</th>\n",
              "      <td>1.043602</td>\n",
              "      <td>1.052206</td>\n",
              "      <td>0.742402</td>\n",
              "      <td>0.620735</td>\n",
              "      <td>-0.010183</td>\n",
              "      <td>-0.282236</td>\n",
              "      <td>0.649534</td>\n",
              "      <td>-1.721420</td>\n",
              "      <td>7.700475e-02</td>\n",
              "      <td>-0.398959</td>\n",
              "      <td>...</td>\n",
              "      <td>-0.006886</td>\n",
              "      <td>-0.247506</td>\n",
              "      <td>-0.361254</td>\n",
              "      <td>0.488115</td>\n",
              "      <td>-0.313454</td>\n",
              "      <td>-2.114371</td>\n",
              "      <td>-1.433913</td>\n",
              "      <td>0.243754</td>\n",
              "      <td>0.422554</td>\n",
              "      <td>-0.265125</td>\n",
              "    </tr>\n",
              "    <tr>\n",
              "      <th>1</th>\n",
              "      <td>0.775706</td>\n",
              "      <td>0.740556</td>\n",
              "      <td>-0.377719</td>\n",
              "      <td>0.895087</td>\n",
              "      <td>-1.184970</td>\n",
              "      <td>2.791231</td>\n",
              "      <td>-1.514394</td>\n",
              "      <td>0.000000</td>\n",
              "      <td>5.570492e-15</td>\n",
              "      <td>0.000000</td>\n",
              "      <td>...</td>\n",
              "      <td>-0.006886</td>\n",
              "      <td>-0.247506</td>\n",
              "      <td>-0.361254</td>\n",
              "      <td>-2.048684</td>\n",
              "      <td>-0.313454</td>\n",
              "      <td>0.472951</td>\n",
              "      <td>0.697388</td>\n",
              "      <td>0.243754</td>\n",
              "      <td>0.422554</td>\n",
              "      <td>-0.265125</td>\n",
              "    </tr>\n",
              "    <tr>\n",
              "      <th>2</th>\n",
              "      <td>0.738326</td>\n",
              "      <td>0.714141</td>\n",
              "      <td>-0.133474</td>\n",
              "      <td>1.350300</td>\n",
              "      <td>1.222067</td>\n",
              "      <td>-0.282236</td>\n",
              "      <td>0.649534</td>\n",
              "      <td>0.083771</td>\n",
              "      <td>7.700475e-02</td>\n",
              "      <td>0.000000</td>\n",
              "      <td>...</td>\n",
              "      <td>-0.006886</td>\n",
              "      <td>-0.247506</td>\n",
              "      <td>-0.361254</td>\n",
              "      <td>0.488115</td>\n",
              "      <td>-0.313454</td>\n",
              "      <td>0.472951</td>\n",
              "      <td>0.697388</td>\n",
              "      <td>0.243754</td>\n",
              "      <td>0.422554</td>\n",
              "      <td>-0.265125</td>\n",
              "    </tr>\n",
              "    <tr>\n",
              "      <th>3</th>\n",
              "      <td>0.624538</td>\n",
              "      <td>0.600527</td>\n",
              "      <td>-0.297166</td>\n",
              "      <td>-0.079844</td>\n",
              "      <td>-0.265571</td>\n",
              "      <td>-0.282236</td>\n",
              "      <td>0.649534</td>\n",
              "      <td>1.565488</td>\n",
              "      <td>7.700475e-02</td>\n",
              "      <td>0.749756</td>\n",
              "      <td>...</td>\n",
              "      <td>-0.006886</td>\n",
              "      <td>-0.247506</td>\n",
              "      <td>-0.361254</td>\n",
              "      <td>0.488115</td>\n",
              "      <td>-0.313454</td>\n",
              "      <td>0.472951</td>\n",
              "      <td>0.697388</td>\n",
              "      <td>0.243754</td>\n",
              "      <td>0.422554</td>\n",
              "      <td>3.771775</td>\n",
              "    </tr>\n",
              "    <tr>\n",
              "      <th>4</th>\n",
              "      <td>0.489748</td>\n",
              "      <td>0.455722</td>\n",
              "      <td>-0.389394</td>\n",
              "      <td>1.223535</td>\n",
              "      <td>1.164605</td>\n",
              "      <td>2.791231</td>\n",
              "      <td>-1.490080</td>\n",
              "      <td>-0.072749</td>\n",
              "      <td>-1.050669e+01</td>\n",
              "      <td>0.000000</td>\n",
              "      <td>...</td>\n",
              "      <td>-0.006886</td>\n",
              "      <td>-0.247506</td>\n",
              "      <td>-0.361254</td>\n",
              "      <td>-2.048684</td>\n",
              "      <td>-0.313454</td>\n",
              "      <td>0.472951</td>\n",
              "      <td>0.697388</td>\n",
              "      <td>0.243754</td>\n",
              "      <td>0.422554</td>\n",
              "      <td>-0.265125</td>\n",
              "    </tr>\n",
              "  </tbody>\n",
              "</table>\n",
              "<p>5 rows × 166 columns</p>\n",
              "</div>"
            ],
            "text/plain": [
              "   TransactionID  TransactionDT  TransactionAmt     card1     card2     card3  \\\n",
              "0       1.043602       1.052206        0.742402  0.620735 -0.010183 -0.282236   \n",
              "1       0.775706       0.740556       -0.377719  0.895087 -1.184970  2.791231   \n",
              "2       0.738326       0.714141       -0.133474  1.350300  1.222067 -0.282236   \n",
              "3       0.624538       0.600527       -0.297166 -0.079844 -0.265571 -0.282236   \n",
              "4       0.489748       0.455722       -0.389394  1.223535  1.164605  2.791231   \n",
              "\n",
              "      card5     addr1         addr2     dist1  ...      M1_F      M2_F  \\\n",
              "0  0.649534 -1.721420  7.700475e-02 -0.398959  ... -0.006886 -0.247506   \n",
              "1 -1.514394  0.000000  5.570492e-15  0.000000  ... -0.006886 -0.247506   \n",
              "2  0.649534  0.083771  7.700475e-02  0.000000  ... -0.006886 -0.247506   \n",
              "3  0.649534  1.565488  7.700475e-02  0.749756  ... -0.006886 -0.247506   \n",
              "4 -1.490080 -0.072749 -1.050669e+01  0.000000  ... -0.006886 -0.247506   \n",
              "\n",
              "       M3_F     M4_M0     M4_M1      M5_F      M6_F      M7_F      M8_F  \\\n",
              "0 -0.361254  0.488115 -0.313454 -2.114371 -1.433913  0.243754  0.422554   \n",
              "1 -0.361254 -2.048684 -0.313454  0.472951  0.697388  0.243754  0.422554   \n",
              "2 -0.361254  0.488115 -0.313454  0.472951  0.697388  0.243754  0.422554   \n",
              "3 -0.361254  0.488115 -0.313454  0.472951  0.697388  0.243754  0.422554   \n",
              "4 -0.361254 -2.048684 -0.313454  0.472951  0.697388  0.243754  0.422554   \n",
              "\n",
              "       M9_F  \n",
              "0 -0.265125  \n",
              "1 -0.265125  \n",
              "2 -0.265125  \n",
              "3  3.771775  \n",
              "4 -0.265125  \n",
              "\n",
              "[5 rows x 166 columns]"
            ]
          },
          "execution_count": 27,
          "metadata": {},
          "output_type": "execute_result"
        },
        {
          "ename": "",
          "evalue": "",
          "output_type": "error",
          "traceback": [
            "\u001b[1;31mThe Kernel crashed while executing code in the the current cell or a previous cell. Please review the code in the cell(s) to identify a possible cause of the failure. Click <a href='https://aka.ms/vscodeJupyterKernelCrash'>here</a> for more info. View Jupyter <a href='command:jupyter.viewOutput'>log</a> for further details."
          ]
        }
      ],
      "source": [
        "test_df = pd.read_csv(\"test.csv\")\n",
        "\n",
        "newtest_df = test_df.drop(l, axis = 1)\n",
        "newtest_df.shape\n",
        "\n",
        "numerics = ['int16', 'int32', 'int64', 'float16', 'float32', 'float64']\n",
        "\n",
        "categorical = newtest_df.select_dtypes(include = 'object').columns\n",
        "numerical = newtest_df.select_dtypes(include = numerics).columns\n",
        "\n",
        "newtest_df[categorical] = newtest_df[categorical].fillna(newtest_df[categorical].mode().iloc[0]) #Filling categorical with most occuring value\n",
        "newtest_df[numerical] = newtest_df[numerical].fillna(newtest_df[numerical].mean())\n",
        "\n",
        "df = pd.get_dummies(newtest_df, columns = categorical)\n",
        "\n",
        "cols = df.select_dtypes(include=np.number).columns  \n",
        "for i in cols:\n",
        "    df[i] = (df[i] - df[i].mean())/df[i].std()\n",
        "\n",
        "df = df.drop(corr_features,axis=1)\n",
        "\n",
        "df.head()"
      ]
    }
  ],
  "metadata": {
    "colab": {
      "provenance": []
    },
    "kernelspec": {
      "display_name": "Python 3.8.10 64-bit",
      "language": "python",
      "name": "python3"
    },
    "language_info": {
      "codemirror_mode": {
        "name": "ipython",
        "version": 3
      },
      "file_extension": ".py",
      "mimetype": "text/x-python",
      "name": "python",
      "nbconvert_exporter": "python",
      "pygments_lexer": "ipython3",
      "version": "3.8.10"
    },
    "vscode": {
      "interpreter": {
        "hash": "916dbcbb3f70747c44a77c7bcd40155683ae19c65e1c03b4aa3499c5328201f1"
      }
    }
  },
  "nbformat": 4,
  "nbformat_minor": 0
}
